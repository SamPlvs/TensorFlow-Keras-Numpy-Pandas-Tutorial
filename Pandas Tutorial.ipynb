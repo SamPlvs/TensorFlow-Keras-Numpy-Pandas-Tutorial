{
 "cells": [
  {
   "cell_type": "markdown",
   "metadata": {},
   "source": [
    "# Pandas Tutorial\n",
    "\n",
    "### A great library for working with data\n",
    "\n",
    "## Author: Samyakh Tukra\n",
    "\n"
   ]
  },
  {
   "cell_type": "markdown",
   "metadata": {},
   "source": [
    "#### Before getting into the code understand what data types look like:\n",
    "Pandas is actually built on top of numpy... it is essentially numpy but with labels! Pandas supports managing data in tabular form and there are 2 types of tabular data:\n",
    "1. DataFrame:these are like excel spreadsheets. The rows and columns can be considered as series data made up of different objects (i.e. labels). These series are indexed. It is a 2 dimensional array! = spreadsheet.\n",
    "\n",
    "2. Series: these are like one dimensional numpy arrays but with an index i.e. a label.\n",
    "\n",
    "### First I will teach how to create these dataypes in Pandas then I'll go onto doing actual data analysis\n"
   ]
  },
  {
   "cell_type": "code",
   "execution_count": 1,
   "metadata": {},
   "outputs": [],
   "source": [
    "import numpy as np\n",
    "import pandas as pd\n",
    "# you have to specify what you want to import from pandas as it is a big library\n",
    "from pandas import Series, DataFrame"
   ]
  },
  {
   "cell_type": "code",
   "execution_count": 6,
   "metadata": {},
   "outputs": [
    {
     "data": {
      "text/plain": [
       "row 1    0\n",
       "row 2    1\n",
       "row 3    2\n",
       "row 4    3\n",
       "row 5    4\n",
       "row 6    5\n",
       "row 7    6\n",
       "row 8    7\n",
       "dtype: int32"
      ]
     },
     "execution_count": 6,
     "metadata": {},
     "output_type": "execute_result"
    }
   ],
   "source": [
    "# To create a series data: use the function: pd.Series:\n",
    "my_series = pd.Series(np.arange(8), index=['row 1', 'row 2','row 3','row 4','row 5', 'row 6', 'row 7', 'row 8'])\n",
    "my_series "
   ]
  },
  {
   "cell_type": "code",
   "execution_count": 8,
   "metadata": {},
   "outputs": [
    {
     "data": {
      "text/plain": [
       "1x    0\n",
       "2x    1\n",
       "3x    2\n",
       "Name: newseries, dtype: int32"
      ]
     },
     "execution_count": 8,
     "metadata": {},
     "output_type": "execute_result"
    }
   ],
   "source": [
    "\"\"\"above I am using the numpy array to create an array of values but I am also \n",
    "indexing them i.e. giving each row a name! if I don't specify an index, Pandas\n",
    "will automatically index it as integer values i.e. 0,1,2....n\"\"\"\n",
    "\n",
    "# Additionally I can also give it a name:\n",
    "x= pd.Series(np.arange(3),index=['1x','2x','3x'],name='newseries')\n",
    "x"
   ]
  },
  {
   "cell_type": "code",
   "execution_count": 9,
   "metadata": {},
   "outputs": [
    {
     "data": {
      "text/plain": [
       "array([0, 1, 2])"
      ]
     },
     "execution_count": 9,
     "metadata": {},
     "output_type": "execute_result"
    }
   ],
   "source": [
    "# to get values of the series:\n",
    "x.values # will simply output the integer values (not the index!)"
   ]
  },
  {
   "cell_type": "code",
   "execution_count": 10,
   "metadata": {},
   "outputs": [
    {
     "data": {
      "text/plain": [
       "Index(['1x', '2x', '3x'], dtype='object')"
      ]
     },
     "execution_count": 10,
     "metadata": {},
     "output_type": "execute_result"
    }
   ],
   "source": [
    "x.index # outputs the index names:"
   ]
  },
  {
   "cell_type": "code",
   "execution_count": 11,
   "metadata": {},
   "outputs": [
    {
     "data": {
      "text/plain": [
       "0    1.0\n",
       "1    2.0\n",
       "2    NaN\n",
       "3    3.0\n",
       "4    NaN\n",
       "Name: nan-series, dtype: float64"
      ]
     },
     "execution_count": 11,
     "metadata": {},
     "output_type": "execute_result"
    }
   ],
   "source": [
    "# using numpy: np.nan function we can also have not-a-number values:\n",
    "y=pd.Series(np.array([1,2,np.nan,3,np.nan]),name='nan-series')\n",
    "y"
   ]
  },
  {
   "cell_type": "code",
   "execution_count": 12,
   "metadata": {},
   "outputs": [],
   "source": [
    "# as seen above, I have some NaN values and since, I didn't specify an index Pandas\n",
    "#automatically gave it one!"
   ]
  },
  {
   "cell_type": "code",
   "execution_count": 14,
   "metadata": {},
   "outputs": [
    {
     "data": {
      "text/plain": [
       "6"
      ]
     },
     "execution_count": 14,
     "metadata": {},
     "output_type": "execute_result"
    }
   ],
   "source": [
    "# To extract data from series:\n",
    "# extract by specifying index:\n",
    "my_series['row 7'] # remember in python indexing is always done with square brackets"
   ]
  },
  {
   "cell_type": "code",
   "execution_count": 15,
   "metadata": {},
   "outputs": [
    {
     "data": {
      "text/plain": [
       "7"
      ]
     },
     "execution_count": 15,
     "metadata": {},
     "output_type": "execute_result"
    }
   ],
   "source": [
    "# or by integer indexing:\n",
    "my_series[7]# 8th row!"
   ]
  },
  {
   "cell_type": "code",
   "execution_count": 18,
   "metadata": {},
   "outputs": [
    {
     "data": {
      "text/plain": [
       "row 2    1\n",
       "row 8    7\n",
       "dtype: int32"
      ]
     },
     "execution_count": 18,
     "metadata": {},
     "output_type": "execute_result"
    }
   ],
   "source": [
    "my_series[[1,7]] # will return 2 values, row 1 (i.e. second row) and the 8th row (7)"
   ]
  },
  {
   "cell_type": "code",
   "execution_count": 19,
   "metadata": {},
   "outputs": [
    {
     "data": {
      "text/plain": [
       "row 4    3\n",
       "row 5    4\n",
       "row 6    5\n",
       "dtype: int32"
      ]
     },
     "execution_count": 19,
     "metadata": {},
     "output_type": "execute_result"
    }
   ],
   "source": [
    "my_series[3:6] # as well as standard slicing"
   ]
  },
  {
   "cell_type": "code",
   "execution_count": 20,
   "metadata": {},
   "outputs": [
    {
     "data": {
      "text/plain": [
       "row 1    0\n",
       "row 2    1\n",
       "row 3    2\n",
       "row 4    3\n",
       "row 5    4\n",
       "dtype: int32"
      ]
     },
     "execution_count": 20,
     "metadata": {},
     "output_type": "execute_result"
    }
   ],
   "source": [
    "# we can also slice from indexes:\n",
    "my_series['row 1':'row 5']"
   ]
  },
  {
   "cell_type": "markdown",
   "metadata": {},
   "source": [
    "the index input argument in pd.Series always labels rows.... now let's create dataframes:\n",
    "## DataFrames:\n",
    "this will essentially carry labels for rows aswell as columns (literally like an\n",
    "excel spreadsheet)"
   ]
  },
  {
   "cell_type": "code",
   "execution_count": 3,
   "metadata": {},
   "outputs": [
    {
     "data": {
      "text/html": [
       "<div>\n",
       "<style scoped>\n",
       "    .dataframe tbody tr th:only-of-type {\n",
       "        vertical-align: middle;\n",
       "    }\n",
       "\n",
       "    .dataframe tbody tr th {\n",
       "        vertical-align: top;\n",
       "    }\n",
       "\n",
       "    .dataframe thead th {\n",
       "        text-align: right;\n",
       "    }\n",
       "</style>\n",
       "<table border=\"1\" class=\"dataframe\">\n",
       "  <thead>\n",
       "    <tr style=\"text-align: right;\">\n",
       "      <th></th>\n",
       "      <th>column 1</th>\n",
       "      <th>column 2</th>\n",
       "      <th>column 3</th>\n",
       "      <th>column 4</th>\n",
       "      <th>column 5</th>\n",
       "      <th>column 6</th>\n",
       "    </tr>\n",
       "  </thead>\n",
       "  <tbody>\n",
       "    <tr>\n",
       "      <th>row 1</th>\n",
       "      <td>0.617198</td>\n",
       "      <td>0.333289</td>\n",
       "      <td>0.309594</td>\n",
       "      <td>0.110135</td>\n",
       "      <td>0.170359</td>\n",
       "      <td>0.494338</td>\n",
       "    </tr>\n",
       "    <tr>\n",
       "      <th>row 2</th>\n",
       "      <td>0.123996</td>\n",
       "      <td>0.281097</td>\n",
       "      <td>0.923735</td>\n",
       "      <td>0.626989</td>\n",
       "      <td>0.556672</td>\n",
       "      <td>0.172247</td>\n",
       "    </tr>\n",
       "    <tr>\n",
       "      <th>row 3</th>\n",
       "      <td>0.836940</td>\n",
       "      <td>0.203892</td>\n",
       "      <td>0.439892</td>\n",
       "      <td>0.454288</td>\n",
       "      <td>0.147774</td>\n",
       "      <td>0.726046</td>\n",
       "    </tr>\n",
       "    <tr>\n",
       "      <th>row 4</th>\n",
       "      <td>0.729429</td>\n",
       "      <td>0.264917</td>\n",
       "      <td>0.966528</td>\n",
       "      <td>0.218281</td>\n",
       "      <td>0.765516</td>\n",
       "      <td>0.788777</td>\n",
       "    </tr>\n",
       "    <tr>\n",
       "      <th>row 5</th>\n",
       "      <td>0.732542</td>\n",
       "      <td>0.223860</td>\n",
       "      <td>0.738969</td>\n",
       "      <td>0.292683</td>\n",
       "      <td>0.754843</td>\n",
       "      <td>0.718043</td>\n",
       "    </tr>\n",
       "    <tr>\n",
       "      <th>row 6</th>\n",
       "      <td>0.191924</td>\n",
       "      <td>0.256586</td>\n",
       "      <td>0.341628</td>\n",
       "      <td>0.486079</td>\n",
       "      <td>0.081642</td>\n",
       "      <td>0.372080</td>\n",
       "    </tr>\n",
       "  </tbody>\n",
       "</table>\n",
       "</div>"
      ],
      "text/plain": [
       "       column 1  column 2  column 3  column 4  column 5  column 6\n",
       "row 1  0.617198  0.333289  0.309594  0.110135  0.170359  0.494338\n",
       "row 2  0.123996  0.281097  0.923735  0.626989  0.556672  0.172247\n",
       "row 3  0.836940  0.203892  0.439892  0.454288  0.147774  0.726046\n",
       "row 4  0.729429  0.264917  0.966528  0.218281  0.765516  0.788777\n",
       "row 5  0.732542  0.223860  0.738969  0.292683  0.754843  0.718043\n",
       "row 6  0.191924  0.256586  0.341628  0.486079  0.081642  0.372080"
      ]
     },
     "execution_count": 3,
     "metadata": {},
     "output_type": "execute_result"
    }
   ],
   "source": [
    "DF_obj = DataFrame(np.random.rand(36).reshape((6,6)), \n",
    "                   index=['row 1', 'row 2', 'row 3', 'row 4', 'row 5', 'row 6'],\n",
    "                   columns=['column 1', 'column 2', 'column 3', 'column 4', 'column 5', 'column 6'])\n",
    "DF_obj"
   ]
  },
  {
   "cell_type": "code",
   "execution_count": 8,
   "metadata": {},
   "outputs": [
    {
     "name": "stdout",
     "output_type": "stream",
     "text": [
      "DatetimeIndex(['2018-01-08', '2018-01-09', '2018-01-10', '2018-01-11',\n",
      "               '2018-01-12', '2018-01-13', '2018-01-14', '2018-01-15'],\n",
      "              dtype='datetime64[ns]', freq='D')\n"
     ]
    },
    {
     "data": {
      "text/plain": [
       "array([[0.4171354 , 0.24258937, 0.96627395, 0.66312738, 0.05121845,\n",
       "        0.12344391],\n",
       "       [0.86625085, 0.95088134, 0.1475108 , 0.05101476, 0.84931148,\n",
       "        0.88438299],\n",
       "       [0.64985082, 0.95423567, 0.3155321 , 0.44502109, 0.29145337,\n",
       "        0.53854921],\n",
       "       [0.95040406, 0.07032633, 0.54936952, 0.51481822, 0.50488032,\n",
       "        0.05632216],\n",
       "       [0.92760481, 0.05588356, 0.69258713, 0.75256248, 0.22034916,\n",
       "        0.24421017],\n",
       "       [0.81508061, 0.00681376, 0.84958601, 0.47195348, 0.59814748,\n",
       "        0.94667976],\n",
       "       [0.95832764, 0.58641475, 0.24259932, 0.48895132, 0.47913975,\n",
       "        0.57730081],\n",
       "       [0.66554557, 0.46756702, 0.21363159, 0.48564842, 0.71541169,\n",
       "        0.6838695 ]])"
      ]
     },
     "execution_count": 8,
     "metadata": {},
     "output_type": "execute_result"
    }
   ],
   "source": [
    "# I can also create a time series based dataframes using the pandas date_range function\n",
    "my_dates_index= pd.date_range('20180108',periods=8) \n",
    "# the above is 2018-01-08 and we want it to extend to 8 days:\n",
    "print(my_dates_index)\n",
    "\n",
    "# now lets create our data:\n",
    "data= np.random.rand(48).reshape(8,6)\n",
    "data"
   ]
  },
  {
   "cell_type": "code",
   "execution_count": 9,
   "metadata": {},
   "outputs": [
    {
     "data": {
      "text/html": [
       "<div>\n",
       "<style scoped>\n",
       "    .dataframe tbody tr th:only-of-type {\n",
       "        vertical-align: middle;\n",
       "    }\n",
       "\n",
       "    .dataframe tbody tr th {\n",
       "        vertical-align: top;\n",
       "    }\n",
       "\n",
       "    .dataframe thead th {\n",
       "        text-align: right;\n",
       "    }\n",
       "</style>\n",
       "<table border=\"1\" class=\"dataframe\">\n",
       "  <thead>\n",
       "    <tr style=\"text-align: right;\">\n",
       "      <th></th>\n",
       "      <th>A</th>\n",
       "      <th>B</th>\n",
       "      <th>C</th>\n",
       "      <th>D</th>\n",
       "      <th>E</th>\n",
       "      <th>F</th>\n",
       "    </tr>\n",
       "  </thead>\n",
       "  <tbody>\n",
       "    <tr>\n",
       "      <th>2018-01-08</th>\n",
       "      <td>0.417135</td>\n",
       "      <td>0.242589</td>\n",
       "      <td>0.966274</td>\n",
       "      <td>0.663127</td>\n",
       "      <td>0.051218</td>\n",
       "      <td>0.123444</td>\n",
       "    </tr>\n",
       "    <tr>\n",
       "      <th>2018-01-09</th>\n",
       "      <td>0.866251</td>\n",
       "      <td>0.950881</td>\n",
       "      <td>0.147511</td>\n",
       "      <td>0.051015</td>\n",
       "      <td>0.849311</td>\n",
       "      <td>0.884383</td>\n",
       "    </tr>\n",
       "    <tr>\n",
       "      <th>2018-01-10</th>\n",
       "      <td>0.649851</td>\n",
       "      <td>0.954236</td>\n",
       "      <td>0.315532</td>\n",
       "      <td>0.445021</td>\n",
       "      <td>0.291453</td>\n",
       "      <td>0.538549</td>\n",
       "    </tr>\n",
       "    <tr>\n",
       "      <th>2018-01-11</th>\n",
       "      <td>0.950404</td>\n",
       "      <td>0.070326</td>\n",
       "      <td>0.549370</td>\n",
       "      <td>0.514818</td>\n",
       "      <td>0.504880</td>\n",
       "      <td>0.056322</td>\n",
       "    </tr>\n",
       "    <tr>\n",
       "      <th>2018-01-12</th>\n",
       "      <td>0.927605</td>\n",
       "      <td>0.055884</td>\n",
       "      <td>0.692587</td>\n",
       "      <td>0.752562</td>\n",
       "      <td>0.220349</td>\n",
       "      <td>0.244210</td>\n",
       "    </tr>\n",
       "    <tr>\n",
       "      <th>2018-01-13</th>\n",
       "      <td>0.815081</td>\n",
       "      <td>0.006814</td>\n",
       "      <td>0.849586</td>\n",
       "      <td>0.471953</td>\n",
       "      <td>0.598147</td>\n",
       "      <td>0.946680</td>\n",
       "    </tr>\n",
       "    <tr>\n",
       "      <th>2018-01-14</th>\n",
       "      <td>0.958328</td>\n",
       "      <td>0.586415</td>\n",
       "      <td>0.242599</td>\n",
       "      <td>0.488951</td>\n",
       "      <td>0.479140</td>\n",
       "      <td>0.577301</td>\n",
       "    </tr>\n",
       "    <tr>\n",
       "      <th>2018-01-15</th>\n",
       "      <td>0.665546</td>\n",
       "      <td>0.467567</td>\n",
       "      <td>0.213632</td>\n",
       "      <td>0.485648</td>\n",
       "      <td>0.715412</td>\n",
       "      <td>0.683869</td>\n",
       "    </tr>\n",
       "  </tbody>\n",
       "</table>\n",
       "</div>"
      ],
      "text/plain": [
       "                   A         B         C         D         E         F\n",
       "2018-01-08  0.417135  0.242589  0.966274  0.663127  0.051218  0.123444\n",
       "2018-01-09  0.866251  0.950881  0.147511  0.051015  0.849311  0.884383\n",
       "2018-01-10  0.649851  0.954236  0.315532  0.445021  0.291453  0.538549\n",
       "2018-01-11  0.950404  0.070326  0.549370  0.514818  0.504880  0.056322\n",
       "2018-01-12  0.927605  0.055884  0.692587  0.752562  0.220349  0.244210\n",
       "2018-01-13  0.815081  0.006814  0.849586  0.471953  0.598147  0.946680\n",
       "2018-01-14  0.958328  0.586415  0.242599  0.488951  0.479140  0.577301\n",
       "2018-01-15  0.665546  0.467567  0.213632  0.485648  0.715412  0.683869"
      ]
     },
     "execution_count": 9,
     "metadata": {},
     "output_type": "execute_result"
    }
   ],
   "source": [
    "new_frame= pd.DataFrame(data,index=my_dates_index, columns=list('ABCDEF'))\n",
    "new_frame"
   ]
  },
  {
   "cell_type": "code",
   "execution_count": 10,
   "metadata": {},
   "outputs": [
    {
     "data": {
      "text/html": [
       "<div>\n",
       "<style scoped>\n",
       "    .dataframe tbody tr th:only-of-type {\n",
       "        vertical-align: middle;\n",
       "    }\n",
       "\n",
       "    .dataframe tbody tr th {\n",
       "        vertical-align: top;\n",
       "    }\n",
       "\n",
       "    .dataframe thead th {\n",
       "        text-align: right;\n",
       "    }\n",
       "</style>\n",
       "<table border=\"1\" class=\"dataframe\">\n",
       "  <thead>\n",
       "    <tr style=\"text-align: right;\">\n",
       "      <th></th>\n",
       "      <th>column 5</th>\n",
       "      <th>column 2</th>\n",
       "    </tr>\n",
       "  </thead>\n",
       "  <tbody>\n",
       "    <tr>\n",
       "      <th>row 2</th>\n",
       "      <td>0.556672</td>\n",
       "      <td>0.281097</td>\n",
       "    </tr>\n",
       "    <tr>\n",
       "      <th>row 5</th>\n",
       "      <td>0.754843</td>\n",
       "      <td>0.223860</td>\n",
       "    </tr>\n",
       "  </tbody>\n",
       "</table>\n",
       "</div>"
      ],
      "text/plain": [
       "       column 5  column 2\n",
       "row 2  0.556672  0.281097\n",
       "row 5  0.754843  0.223860"
      ]
     },
     "execution_count": 10,
     "metadata": {},
     "output_type": "execute_result"
    }
   ],
   "source": [
    "# indexing is simple we have to call the .ix[] function:\n",
    "\n",
    "DF_obj.ix[['row 2','row 5'],['column 5','column 2']] # calling 2 rows and columns"
   ]
  },
  {
   "cell_type": "code",
   "execution_count": 13,
   "metadata": {},
   "outputs": [
    {
     "data": {
      "text/html": [
       "<div>\n",
       "<style scoped>\n",
       "    .dataframe tbody tr th:only-of-type {\n",
       "        vertical-align: middle;\n",
       "    }\n",
       "\n",
       "    .dataframe tbody tr th {\n",
       "        vertical-align: top;\n",
       "    }\n",
       "\n",
       "    .dataframe thead th {\n",
       "        text-align: right;\n",
       "    }\n",
       "</style>\n",
       "<table border=\"1\" class=\"dataframe\">\n",
       "  <thead>\n",
       "    <tr style=\"text-align: right;\">\n",
       "      <th></th>\n",
       "      <th>column 1</th>\n",
       "      <th>column 2</th>\n",
       "      <th>column 3</th>\n",
       "      <th>column 4</th>\n",
       "      <th>column 5</th>\n",
       "      <th>column 6</th>\n",
       "    </tr>\n",
       "  </thead>\n",
       "  <tbody>\n",
       "    <tr>\n",
       "      <th>row 1</th>\n",
       "      <td>False</td>\n",
       "      <td>False</td>\n",
       "      <td>False</td>\n",
       "      <td>True</td>\n",
       "      <td>True</td>\n",
       "      <td>False</td>\n",
       "    </tr>\n",
       "    <tr>\n",
       "      <th>row 2</th>\n",
       "      <td>True</td>\n",
       "      <td>False</td>\n",
       "      <td>False</td>\n",
       "      <td>False</td>\n",
       "      <td>False</td>\n",
       "      <td>True</td>\n",
       "    </tr>\n",
       "    <tr>\n",
       "      <th>row 3</th>\n",
       "      <td>False</td>\n",
       "      <td>False</td>\n",
       "      <td>False</td>\n",
       "      <td>False</td>\n",
       "      <td>True</td>\n",
       "      <td>False</td>\n",
       "    </tr>\n",
       "    <tr>\n",
       "      <th>row 4</th>\n",
       "      <td>False</td>\n",
       "      <td>False</td>\n",
       "      <td>False</td>\n",
       "      <td>False</td>\n",
       "      <td>False</td>\n",
       "      <td>False</td>\n",
       "    </tr>\n",
       "    <tr>\n",
       "      <th>row 5</th>\n",
       "      <td>False</td>\n",
       "      <td>False</td>\n",
       "      <td>False</td>\n",
       "      <td>False</td>\n",
       "      <td>False</td>\n",
       "      <td>False</td>\n",
       "    </tr>\n",
       "    <tr>\n",
       "      <th>row 6</th>\n",
       "      <td>True</td>\n",
       "      <td>False</td>\n",
       "      <td>False</td>\n",
       "      <td>False</td>\n",
       "      <td>True</td>\n",
       "      <td>False</td>\n",
       "    </tr>\n",
       "  </tbody>\n",
       "</table>\n",
       "</div>"
      ],
      "text/plain": [
       "       column 1  column 2  column 3  column 4  column 5  column 6\n",
       "row 1     False     False     False      True      True     False\n",
       "row 2      True     False     False     False     False      True\n",
       "row 3     False     False     False     False      True     False\n",
       "row 4     False     False     False     False     False     False\n",
       "row 5     False     False     False     False     False     False\n",
       "row 6      True     False     False     False      True     False"
      ]
     },
     "execution_count": 13,
     "metadata": {},
     "output_type": "execute_result"
    }
   ],
   "source": [
    "# we can also use comparison operators with scalar values to get boolean results\n",
    "DF_obj <.2 # whether a value is less than .2\n",
    "# we can also perform this on a specific column as opposed to the whole dataset"
   ]
  },
  {
   "cell_type": "code",
   "execution_count": 14,
   "metadata": {},
   "outputs": [],
   "source": [
    "# if we wanted the value of those variables that satisfy the condition:"
   ]
  },
  {
   "cell_type": "code",
   "execution_count": 15,
   "metadata": {},
   "outputs": [
    {
     "data": {
      "text/html": [
       "<div>\n",
       "<style scoped>\n",
       "    .dataframe tbody tr th:only-of-type {\n",
       "        vertical-align: middle;\n",
       "    }\n",
       "\n",
       "    .dataframe tbody tr th {\n",
       "        vertical-align: top;\n",
       "    }\n",
       "\n",
       "    .dataframe thead th {\n",
       "        text-align: right;\n",
       "    }\n",
       "</style>\n",
       "<table border=\"1\" class=\"dataframe\">\n",
       "  <thead>\n",
       "    <tr style=\"text-align: right;\">\n",
       "      <th></th>\n",
       "      <th>column 1</th>\n",
       "      <th>column 2</th>\n",
       "      <th>column 3</th>\n",
       "      <th>column 4</th>\n",
       "      <th>column 5</th>\n",
       "      <th>column 6</th>\n",
       "    </tr>\n",
       "  </thead>\n",
       "  <tbody>\n",
       "    <tr>\n",
       "      <th>row 1</th>\n",
       "      <td>NaN</td>\n",
       "      <td>NaN</td>\n",
       "      <td>NaN</td>\n",
       "      <td>0.110135</td>\n",
       "      <td>0.170359</td>\n",
       "      <td>NaN</td>\n",
       "    </tr>\n",
       "    <tr>\n",
       "      <th>row 2</th>\n",
       "      <td>0.123996</td>\n",
       "      <td>NaN</td>\n",
       "      <td>NaN</td>\n",
       "      <td>NaN</td>\n",
       "      <td>NaN</td>\n",
       "      <td>0.172247</td>\n",
       "    </tr>\n",
       "    <tr>\n",
       "      <th>row 3</th>\n",
       "      <td>NaN</td>\n",
       "      <td>NaN</td>\n",
       "      <td>NaN</td>\n",
       "      <td>NaN</td>\n",
       "      <td>0.147774</td>\n",
       "      <td>NaN</td>\n",
       "    </tr>\n",
       "    <tr>\n",
       "      <th>row 4</th>\n",
       "      <td>NaN</td>\n",
       "      <td>NaN</td>\n",
       "      <td>NaN</td>\n",
       "      <td>NaN</td>\n",
       "      <td>NaN</td>\n",
       "      <td>NaN</td>\n",
       "    </tr>\n",
       "    <tr>\n",
       "      <th>row 5</th>\n",
       "      <td>NaN</td>\n",
       "      <td>NaN</td>\n",
       "      <td>NaN</td>\n",
       "      <td>NaN</td>\n",
       "      <td>NaN</td>\n",
       "      <td>NaN</td>\n",
       "    </tr>\n",
       "    <tr>\n",
       "      <th>row 6</th>\n",
       "      <td>0.191924</td>\n",
       "      <td>NaN</td>\n",
       "      <td>NaN</td>\n",
       "      <td>NaN</td>\n",
       "      <td>0.081642</td>\n",
       "      <td>NaN</td>\n",
       "    </tr>\n",
       "  </tbody>\n",
       "</table>\n",
       "</div>"
      ],
      "text/plain": [
       "       column 1  column 2  column 3  column 4  column 5  column 6\n",
       "row 1       NaN       NaN       NaN  0.110135  0.170359       NaN\n",
       "row 2  0.123996       NaN       NaN       NaN       NaN  0.172247\n",
       "row 3       NaN       NaN       NaN       NaN  0.147774       NaN\n",
       "row 4       NaN       NaN       NaN       NaN       NaN       NaN\n",
       "row 5       NaN       NaN       NaN       NaN       NaN       NaN\n",
       "row 6  0.191924       NaN       NaN       NaN  0.081642       NaN"
      ]
     },
     "execution_count": 15,
     "metadata": {},
     "output_type": "execute_result"
    }
   ],
   "source": [
    "DF_obj[DF_obj<.2]"
   ]
  },
  {
   "cell_type": "markdown",
   "metadata": {},
   "source": [
    "If you had large data and you wanted to see a snippet of that data (not all of it) then you use the .head() function which will by defsault display the first 5 rows... or you can say .head(7) where you specify to python that you want to see the first 7 rows. Additionally you can do the same from bottom up by using .tail() where you will see the bottom 5 rows..."
   ]
  },
  {
   "cell_type": "code",
   "execution_count": 16,
   "metadata": {},
   "outputs": [
    {
     "data": {
      "text/html": [
       "<div>\n",
       "<style scoped>\n",
       "    .dataframe tbody tr th:only-of-type {\n",
       "        vertical-align: middle;\n",
       "    }\n",
       "\n",
       "    .dataframe tbody tr th {\n",
       "        vertical-align: top;\n",
       "    }\n",
       "\n",
       "    .dataframe thead th {\n",
       "        text-align: right;\n",
       "    }\n",
       "</style>\n",
       "<table border=\"1\" class=\"dataframe\">\n",
       "  <thead>\n",
       "    <tr style=\"text-align: right;\">\n",
       "      <th></th>\n",
       "      <th>column 1</th>\n",
       "      <th>column 2</th>\n",
       "      <th>column 3</th>\n",
       "      <th>column 4</th>\n",
       "      <th>column 5</th>\n",
       "      <th>column 6</th>\n",
       "    </tr>\n",
       "  </thead>\n",
       "  <tbody>\n",
       "    <tr>\n",
       "      <th>row 1</th>\n",
       "      <td>0.617198</td>\n",
       "      <td>0.333289</td>\n",
       "      <td>0.309594</td>\n",
       "      <td>0.110135</td>\n",
       "      <td>0.170359</td>\n",
       "      <td>0.494338</td>\n",
       "    </tr>\n",
       "    <tr>\n",
       "      <th>row 2</th>\n",
       "      <td>0.123996</td>\n",
       "      <td>0.281097</td>\n",
       "      <td>0.923735</td>\n",
       "      <td>0.626989</td>\n",
       "      <td>0.556672</td>\n",
       "      <td>0.172247</td>\n",
       "    </tr>\n",
       "    <tr>\n",
       "      <th>row 3</th>\n",
       "      <td>0.836940</td>\n",
       "      <td>0.203892</td>\n",
       "      <td>0.439892</td>\n",
       "      <td>0.454288</td>\n",
       "      <td>0.147774</td>\n",
       "      <td>0.726046</td>\n",
       "    </tr>\n",
       "    <tr>\n",
       "      <th>row 4</th>\n",
       "      <td>0.729429</td>\n",
       "      <td>0.264917</td>\n",
       "      <td>0.966528</td>\n",
       "      <td>0.218281</td>\n",
       "      <td>0.765516</td>\n",
       "      <td>0.788777</td>\n",
       "    </tr>\n",
       "    <tr>\n",
       "      <th>row 5</th>\n",
       "      <td>0.732542</td>\n",
       "      <td>0.223860</td>\n",
       "      <td>0.738969</td>\n",
       "      <td>0.292683</td>\n",
       "      <td>0.754843</td>\n",
       "      <td>0.718043</td>\n",
       "    </tr>\n",
       "  </tbody>\n",
       "</table>\n",
       "</div>"
      ],
      "text/plain": [
       "       column 1  column 2  column 3  column 4  column 5  column 6\n",
       "row 1  0.617198  0.333289  0.309594  0.110135  0.170359  0.494338\n",
       "row 2  0.123996  0.281097  0.923735  0.626989  0.556672  0.172247\n",
       "row 3  0.836940  0.203892  0.439892  0.454288  0.147774  0.726046\n",
       "row 4  0.729429  0.264917  0.966528  0.218281  0.765516  0.788777\n",
       "row 5  0.732542  0.223860  0.738969  0.292683  0.754843  0.718043"
      ]
     },
     "execution_count": 16,
     "metadata": {},
     "output_type": "execute_result"
    }
   ],
   "source": [
    "DF_obj.head()\n"
   ]
  },
  {
   "cell_type": "code",
   "execution_count": 18,
   "metadata": {},
   "outputs": [
    {
     "data": {
      "text/html": [
       "<div>\n",
       "<style scoped>\n",
       "    .dataframe tbody tr th:only-of-type {\n",
       "        vertical-align: middle;\n",
       "    }\n",
       "\n",
       "    .dataframe tbody tr th {\n",
       "        vertical-align: top;\n",
       "    }\n",
       "\n",
       "    .dataframe thead th {\n",
       "        text-align: right;\n",
       "    }\n",
       "</style>\n",
       "<table border=\"1\" class=\"dataframe\">\n",
       "  <thead>\n",
       "    <tr style=\"text-align: right;\">\n",
       "      <th></th>\n",
       "      <th>column 1</th>\n",
       "      <th>column 2</th>\n",
       "      <th>column 3</th>\n",
       "      <th>column 4</th>\n",
       "      <th>column 5</th>\n",
       "      <th>column 6</th>\n",
       "    </tr>\n",
       "  </thead>\n",
       "  <tbody>\n",
       "    <tr>\n",
       "      <th>row 5</th>\n",
       "      <td>0.732542</td>\n",
       "      <td>0.223860</td>\n",
       "      <td>0.738969</td>\n",
       "      <td>0.292683</td>\n",
       "      <td>0.754843</td>\n",
       "      <td>0.718043</td>\n",
       "    </tr>\n",
       "    <tr>\n",
       "      <th>row 6</th>\n",
       "      <td>0.191924</td>\n",
       "      <td>0.256586</td>\n",
       "      <td>0.341628</td>\n",
       "      <td>0.486079</td>\n",
       "      <td>0.081642</td>\n",
       "      <td>0.372080</td>\n",
       "    </tr>\n",
       "  </tbody>\n",
       "</table>\n",
       "</div>"
      ],
      "text/plain": [
       "       column 1  column 2  column 3  column 4  column 5  column 6\n",
       "row 5  0.732542  0.223860  0.738969  0.292683  0.754843  0.718043\n",
       "row 6  0.191924  0.256586  0.341628  0.486079  0.081642  0.372080"
      ]
     },
     "execution_count": 18,
     "metadata": {},
     "output_type": "execute_result"
    }
   ],
   "source": [
    "DF_obj.tail(2)\n"
   ]
  },
  {
   "cell_type": "code",
   "execution_count": 20,
   "metadata": {},
   "outputs": [
    {
     "data": {
      "text/plain": [
       "array([[0.61719782, 0.33328947, 0.30959437, 0.11013523, 0.17035878,\n",
       "        0.49433781],\n",
       "       [0.12399566, 0.2810971 , 0.92373495, 0.62698899, 0.55667154,\n",
       "        0.17224719],\n",
       "       [0.83693982, 0.20389199, 0.43989223, 0.45428815, 0.14777394,\n",
       "        0.72604581],\n",
       "       [0.72942922, 0.26491739, 0.96652823, 0.21828089, 0.7655163 ,\n",
       "        0.78877715],\n",
       "       [0.73254173, 0.22386029, 0.73896885, 0.29268271, 0.75484323,\n",
       "        0.71804314],\n",
       "       [0.19192357, 0.2565864 , 0.34162826, 0.48607942, 0.08164209,\n",
       "        0.37207972]])"
      ]
     },
     "execution_count": 20,
     "metadata": {},
     "output_type": "execute_result"
    }
   ],
   "source": [
    "# If I wanted to extract only values from the data set use the .values function\n",
    "DF_obj.values # this will yield the underlying numpy array of values"
   ]
  },
  {
   "cell_type": "code",
   "execution_count": 22,
   "metadata": {},
   "outputs": [
    {
     "data": {
      "text/plain": [
       "Index(['row 1', 'row 2', 'row 3', 'row 4', 'row 5', 'row 6'], dtype='object')"
      ]
     },
     "execution_count": 22,
     "metadata": {},
     "output_type": "execute_result"
    }
   ],
   "source": [
    "DF_obj.index# similarly to get the index/rows"
   ]
  },
  {
   "cell_type": "code",
   "execution_count": 23,
   "metadata": {},
   "outputs": [
    {
     "data": {
      "text/plain": [
       "Index(['column 1', 'column 2', 'column 3', 'column 4', 'column 5', 'column 6'], dtype='object')"
      ]
     },
     "execution_count": 23,
     "metadata": {},
     "output_type": "execute_result"
    }
   ],
   "source": [
    "DF_obj.columns # similarly get the rows."
   ]
  },
  {
   "cell_type": "code",
   "execution_count": 24,
   "metadata": {},
   "outputs": [
    {
     "data": {
      "text/html": [
       "<div>\n",
       "<style scoped>\n",
       "    .dataframe tbody tr th:only-of-type {\n",
       "        vertical-align: middle;\n",
       "    }\n",
       "\n",
       "    .dataframe tbody tr th {\n",
       "        vertical-align: top;\n",
       "    }\n",
       "\n",
       "    .dataframe thead th {\n",
       "        text-align: right;\n",
       "    }\n",
       "</style>\n",
       "<table border=\"1\" class=\"dataframe\">\n",
       "  <thead>\n",
       "    <tr style=\"text-align: right;\">\n",
       "      <th></th>\n",
       "      <th>row 1</th>\n",
       "      <th>row 2</th>\n",
       "      <th>row 3</th>\n",
       "      <th>row 4</th>\n",
       "      <th>row 5</th>\n",
       "      <th>row 6</th>\n",
       "    </tr>\n",
       "  </thead>\n",
       "  <tbody>\n",
       "    <tr>\n",
       "      <th>column 1</th>\n",
       "      <td>0.617198</td>\n",
       "      <td>0.123996</td>\n",
       "      <td>0.836940</td>\n",
       "      <td>0.729429</td>\n",
       "      <td>0.732542</td>\n",
       "      <td>0.191924</td>\n",
       "    </tr>\n",
       "    <tr>\n",
       "      <th>column 2</th>\n",
       "      <td>0.333289</td>\n",
       "      <td>0.281097</td>\n",
       "      <td>0.203892</td>\n",
       "      <td>0.264917</td>\n",
       "      <td>0.223860</td>\n",
       "      <td>0.256586</td>\n",
       "    </tr>\n",
       "    <tr>\n",
       "      <th>column 3</th>\n",
       "      <td>0.309594</td>\n",
       "      <td>0.923735</td>\n",
       "      <td>0.439892</td>\n",
       "      <td>0.966528</td>\n",
       "      <td>0.738969</td>\n",
       "      <td>0.341628</td>\n",
       "    </tr>\n",
       "    <tr>\n",
       "      <th>column 4</th>\n",
       "      <td>0.110135</td>\n",
       "      <td>0.626989</td>\n",
       "      <td>0.454288</td>\n",
       "      <td>0.218281</td>\n",
       "      <td>0.292683</td>\n",
       "      <td>0.486079</td>\n",
       "    </tr>\n",
       "    <tr>\n",
       "      <th>column 5</th>\n",
       "      <td>0.170359</td>\n",
       "      <td>0.556672</td>\n",
       "      <td>0.147774</td>\n",
       "      <td>0.765516</td>\n",
       "      <td>0.754843</td>\n",
       "      <td>0.081642</td>\n",
       "    </tr>\n",
       "    <tr>\n",
       "      <th>column 6</th>\n",
       "      <td>0.494338</td>\n",
       "      <td>0.172247</td>\n",
       "      <td>0.726046</td>\n",
       "      <td>0.788777</td>\n",
       "      <td>0.718043</td>\n",
       "      <td>0.372080</td>\n",
       "    </tr>\n",
       "  </tbody>\n",
       "</table>\n",
       "</div>"
      ],
      "text/plain": [
       "             row 1     row 2     row 3     row 4     row 5     row 6\n",
       "column 1  0.617198  0.123996  0.836940  0.729429  0.732542  0.191924\n",
       "column 2  0.333289  0.281097  0.203892  0.264917  0.223860  0.256586\n",
       "column 3  0.309594  0.923735  0.439892  0.966528  0.738969  0.341628\n",
       "column 4  0.110135  0.626989  0.454288  0.218281  0.292683  0.486079\n",
       "column 5  0.170359  0.556672  0.147774  0.765516  0.754843  0.081642\n",
       "column 6  0.494338  0.172247  0.726046  0.788777  0.718043  0.372080"
      ]
     },
     "execution_count": 24,
     "metadata": {},
     "output_type": "execute_result"
    }
   ],
   "source": [
    "# you can also transpose the rows and columns using the .T attribute:\n",
    "DF_obj.T# so columns are now rows!"
   ]
  },
  {
   "cell_type": "code",
   "execution_count": 25,
   "metadata": {},
   "outputs": [
    {
     "data": {
      "text/html": [
       "<div>\n",
       "<style scoped>\n",
       "    .dataframe tbody tr th:only-of-type {\n",
       "        vertical-align: middle;\n",
       "    }\n",
       "\n",
       "    .dataframe tbody tr th {\n",
       "        vertical-align: top;\n",
       "    }\n",
       "\n",
       "    .dataframe thead th {\n",
       "        text-align: right;\n",
       "    }\n",
       "</style>\n",
       "<table border=\"1\" class=\"dataframe\">\n",
       "  <thead>\n",
       "    <tr style=\"text-align: right;\">\n",
       "      <th></th>\n",
       "      <th>2018-01-08 00:00:00</th>\n",
       "      <th>2018-01-09 00:00:00</th>\n",
       "      <th>2018-01-10 00:00:00</th>\n",
       "      <th>2018-01-11 00:00:00</th>\n",
       "      <th>2018-01-12 00:00:00</th>\n",
       "      <th>2018-01-13 00:00:00</th>\n",
       "      <th>2018-01-14 00:00:00</th>\n",
       "      <th>2018-01-15 00:00:00</th>\n",
       "    </tr>\n",
       "  </thead>\n",
       "  <tbody>\n",
       "    <tr>\n",
       "      <th>A</th>\n",
       "      <td>0.417135</td>\n",
       "      <td>0.866251</td>\n",
       "      <td>0.649851</td>\n",
       "      <td>0.950404</td>\n",
       "      <td>0.927605</td>\n",
       "      <td>0.815081</td>\n",
       "      <td>0.958328</td>\n",
       "      <td>0.665546</td>\n",
       "    </tr>\n",
       "    <tr>\n",
       "      <th>B</th>\n",
       "      <td>0.242589</td>\n",
       "      <td>0.950881</td>\n",
       "      <td>0.954236</td>\n",
       "      <td>0.070326</td>\n",
       "      <td>0.055884</td>\n",
       "      <td>0.006814</td>\n",
       "      <td>0.586415</td>\n",
       "      <td>0.467567</td>\n",
       "    </tr>\n",
       "    <tr>\n",
       "      <th>C</th>\n",
       "      <td>0.966274</td>\n",
       "      <td>0.147511</td>\n",
       "      <td>0.315532</td>\n",
       "      <td>0.549370</td>\n",
       "      <td>0.692587</td>\n",
       "      <td>0.849586</td>\n",
       "      <td>0.242599</td>\n",
       "      <td>0.213632</td>\n",
       "    </tr>\n",
       "    <tr>\n",
       "      <th>D</th>\n",
       "      <td>0.663127</td>\n",
       "      <td>0.051015</td>\n",
       "      <td>0.445021</td>\n",
       "      <td>0.514818</td>\n",
       "      <td>0.752562</td>\n",
       "      <td>0.471953</td>\n",
       "      <td>0.488951</td>\n",
       "      <td>0.485648</td>\n",
       "    </tr>\n",
       "    <tr>\n",
       "      <th>E</th>\n",
       "      <td>0.051218</td>\n",
       "      <td>0.849311</td>\n",
       "      <td>0.291453</td>\n",
       "      <td>0.504880</td>\n",
       "      <td>0.220349</td>\n",
       "      <td>0.598147</td>\n",
       "      <td>0.479140</td>\n",
       "      <td>0.715412</td>\n",
       "    </tr>\n",
       "    <tr>\n",
       "      <th>F</th>\n",
       "      <td>0.123444</td>\n",
       "      <td>0.884383</td>\n",
       "      <td>0.538549</td>\n",
       "      <td>0.056322</td>\n",
       "      <td>0.244210</td>\n",
       "      <td>0.946680</td>\n",
       "      <td>0.577301</td>\n",
       "      <td>0.683869</td>\n",
       "    </tr>\n",
       "  </tbody>\n",
       "</table>\n",
       "</div>"
      ],
      "text/plain": [
       "   2018-01-08  2018-01-09  2018-01-10  2018-01-11  2018-01-12  2018-01-13  \\\n",
       "A    0.417135    0.866251    0.649851    0.950404    0.927605    0.815081   \n",
       "B    0.242589    0.950881    0.954236    0.070326    0.055884    0.006814   \n",
       "C    0.966274    0.147511    0.315532    0.549370    0.692587    0.849586   \n",
       "D    0.663127    0.051015    0.445021    0.514818    0.752562    0.471953   \n",
       "E    0.051218    0.849311    0.291453    0.504880    0.220349    0.598147   \n",
       "F    0.123444    0.884383    0.538549    0.056322    0.244210    0.946680   \n",
       "\n",
       "   2018-01-14  2018-01-15  \n",
       "A    0.958328    0.665546  \n",
       "B    0.586415    0.467567  \n",
       "C    0.242599    0.213632  \n",
       "D    0.488951    0.485648  \n",
       "E    0.479140    0.715412  \n",
       "F    0.577301    0.683869  "
      ]
     },
     "execution_count": 25,
     "metadata": {},
     "output_type": "execute_result"
    }
   ],
   "source": [
    "new_frame.T"
   ]
  },
  {
   "cell_type": "code",
   "execution_count": 31,
   "metadata": {},
   "outputs": [
    {
     "data": {
      "text/html": [
       "<div>\n",
       "<style scoped>\n",
       "    .dataframe tbody tr th:only-of-type {\n",
       "        vertical-align: middle;\n",
       "    }\n",
       "\n",
       "    .dataframe tbody tr th {\n",
       "        vertical-align: top;\n",
       "    }\n",
       "\n",
       "    .dataframe thead th {\n",
       "        text-align: right;\n",
       "    }\n",
       "</style>\n",
       "<table border=\"1\" class=\"dataframe\">\n",
       "  <thead>\n",
       "    <tr style=\"text-align: right;\">\n",
       "      <th></th>\n",
       "      <th>F</th>\n",
       "      <th>E</th>\n",
       "      <th>D</th>\n",
       "      <th>C</th>\n",
       "      <th>B</th>\n",
       "      <th>A</th>\n",
       "    </tr>\n",
       "  </thead>\n",
       "  <tbody>\n",
       "    <tr>\n",
       "      <th>2018-01-08</th>\n",
       "      <td>0.123444</td>\n",
       "      <td>0.051218</td>\n",
       "      <td>0.663127</td>\n",
       "      <td>0.966274</td>\n",
       "      <td>0.242589</td>\n",
       "      <td>0.417135</td>\n",
       "    </tr>\n",
       "    <tr>\n",
       "      <th>2018-01-09</th>\n",
       "      <td>0.884383</td>\n",
       "      <td>0.849311</td>\n",
       "      <td>0.051015</td>\n",
       "      <td>0.147511</td>\n",
       "      <td>0.950881</td>\n",
       "      <td>0.866251</td>\n",
       "    </tr>\n",
       "    <tr>\n",
       "      <th>2018-01-10</th>\n",
       "      <td>0.538549</td>\n",
       "      <td>0.291453</td>\n",
       "      <td>0.445021</td>\n",
       "      <td>0.315532</td>\n",
       "      <td>0.954236</td>\n",
       "      <td>0.649851</td>\n",
       "    </tr>\n",
       "    <tr>\n",
       "      <th>2018-01-11</th>\n",
       "      <td>0.056322</td>\n",
       "      <td>0.504880</td>\n",
       "      <td>0.514818</td>\n",
       "      <td>0.549370</td>\n",
       "      <td>0.070326</td>\n",
       "      <td>0.950404</td>\n",
       "    </tr>\n",
       "    <tr>\n",
       "      <th>2018-01-12</th>\n",
       "      <td>0.244210</td>\n",
       "      <td>0.220349</td>\n",
       "      <td>0.752562</td>\n",
       "      <td>0.692587</td>\n",
       "      <td>0.055884</td>\n",
       "      <td>0.927605</td>\n",
       "    </tr>\n",
       "    <tr>\n",
       "      <th>2018-01-13</th>\n",
       "      <td>0.946680</td>\n",
       "      <td>0.598147</td>\n",
       "      <td>0.471953</td>\n",
       "      <td>0.849586</td>\n",
       "      <td>0.006814</td>\n",
       "      <td>0.815081</td>\n",
       "    </tr>\n",
       "    <tr>\n",
       "      <th>2018-01-14</th>\n",
       "      <td>0.577301</td>\n",
       "      <td>0.479140</td>\n",
       "      <td>0.488951</td>\n",
       "      <td>0.242599</td>\n",
       "      <td>0.586415</td>\n",
       "      <td>0.958328</td>\n",
       "    </tr>\n",
       "    <tr>\n",
       "      <th>2018-01-15</th>\n",
       "      <td>0.683869</td>\n",
       "      <td>0.715412</td>\n",
       "      <td>0.485648</td>\n",
       "      <td>0.213632</td>\n",
       "      <td>0.467567</td>\n",
       "      <td>0.665546</td>\n",
       "    </tr>\n",
       "  </tbody>\n",
       "</table>\n",
       "</div>"
      ],
      "text/plain": [
       "                   F         E         D         C         B         A\n",
       "2018-01-08  0.123444  0.051218  0.663127  0.966274  0.242589  0.417135\n",
       "2018-01-09  0.884383  0.849311  0.051015  0.147511  0.950881  0.866251\n",
       "2018-01-10  0.538549  0.291453  0.445021  0.315532  0.954236  0.649851\n",
       "2018-01-11  0.056322  0.504880  0.514818  0.549370  0.070326  0.950404\n",
       "2018-01-12  0.244210  0.220349  0.752562  0.692587  0.055884  0.927605\n",
       "2018-01-13  0.946680  0.598147  0.471953  0.849586  0.006814  0.815081\n",
       "2018-01-14  0.577301  0.479140  0.488951  0.242599  0.586415  0.958328\n",
       "2018-01-15  0.683869  0.715412  0.485648  0.213632  0.467567  0.665546"
      ]
     },
     "execution_count": 31,
     "metadata": {},
     "output_type": "execute_result"
    }
   ],
   "source": [
    "# we can also sort the dataframe by index, values and columns:\n",
    "new_frame.sort_index(axis=1, ascending=False) # axis = 0 for rows, 1= columns"
   ]
  },
  {
   "cell_type": "code",
   "execution_count": 32,
   "metadata": {},
   "outputs": [
    {
     "data": {
      "text/html": [
       "<div>\n",
       "<style scoped>\n",
       "    .dataframe tbody tr th:only-of-type {\n",
       "        vertical-align: middle;\n",
       "    }\n",
       "\n",
       "    .dataframe tbody tr th {\n",
       "        vertical-align: top;\n",
       "    }\n",
       "\n",
       "    .dataframe thead th {\n",
       "        text-align: right;\n",
       "    }\n",
       "</style>\n",
       "<table border=\"1\" class=\"dataframe\">\n",
       "  <thead>\n",
       "    <tr style=\"text-align: right;\">\n",
       "      <th></th>\n",
       "      <th>A</th>\n",
       "      <th>B</th>\n",
       "      <th>C</th>\n",
       "      <th>D</th>\n",
       "      <th>E</th>\n",
       "      <th>F</th>\n",
       "    </tr>\n",
       "  </thead>\n",
       "  <tbody>\n",
       "    <tr>\n",
       "      <th>2018-01-13</th>\n",
       "      <td>0.815081</td>\n",
       "      <td>0.006814</td>\n",
       "      <td>0.849586</td>\n",
       "      <td>0.471953</td>\n",
       "      <td>0.598147</td>\n",
       "      <td>0.946680</td>\n",
       "    </tr>\n",
       "    <tr>\n",
       "      <th>2018-01-12</th>\n",
       "      <td>0.927605</td>\n",
       "      <td>0.055884</td>\n",
       "      <td>0.692587</td>\n",
       "      <td>0.752562</td>\n",
       "      <td>0.220349</td>\n",
       "      <td>0.244210</td>\n",
       "    </tr>\n",
       "    <tr>\n",
       "      <th>2018-01-11</th>\n",
       "      <td>0.950404</td>\n",
       "      <td>0.070326</td>\n",
       "      <td>0.549370</td>\n",
       "      <td>0.514818</td>\n",
       "      <td>0.504880</td>\n",
       "      <td>0.056322</td>\n",
       "    </tr>\n",
       "    <tr>\n",
       "      <th>2018-01-08</th>\n",
       "      <td>0.417135</td>\n",
       "      <td>0.242589</td>\n",
       "      <td>0.966274</td>\n",
       "      <td>0.663127</td>\n",
       "      <td>0.051218</td>\n",
       "      <td>0.123444</td>\n",
       "    </tr>\n",
       "    <tr>\n",
       "      <th>2018-01-15</th>\n",
       "      <td>0.665546</td>\n",
       "      <td>0.467567</td>\n",
       "      <td>0.213632</td>\n",
       "      <td>0.485648</td>\n",
       "      <td>0.715412</td>\n",
       "      <td>0.683869</td>\n",
       "    </tr>\n",
       "    <tr>\n",
       "      <th>2018-01-14</th>\n",
       "      <td>0.958328</td>\n",
       "      <td>0.586415</td>\n",
       "      <td>0.242599</td>\n",
       "      <td>0.488951</td>\n",
       "      <td>0.479140</td>\n",
       "      <td>0.577301</td>\n",
       "    </tr>\n",
       "    <tr>\n",
       "      <th>2018-01-09</th>\n",
       "      <td>0.866251</td>\n",
       "      <td>0.950881</td>\n",
       "      <td>0.147511</td>\n",
       "      <td>0.051015</td>\n",
       "      <td>0.849311</td>\n",
       "      <td>0.884383</td>\n",
       "    </tr>\n",
       "    <tr>\n",
       "      <th>2018-01-10</th>\n",
       "      <td>0.649851</td>\n",
       "      <td>0.954236</td>\n",
       "      <td>0.315532</td>\n",
       "      <td>0.445021</td>\n",
       "      <td>0.291453</td>\n",
       "      <td>0.538549</td>\n",
       "    </tr>\n",
       "  </tbody>\n",
       "</table>\n",
       "</div>"
      ],
      "text/plain": [
       "                   A         B         C         D         E         F\n",
       "2018-01-13  0.815081  0.006814  0.849586  0.471953  0.598147  0.946680\n",
       "2018-01-12  0.927605  0.055884  0.692587  0.752562  0.220349  0.244210\n",
       "2018-01-11  0.950404  0.070326  0.549370  0.514818  0.504880  0.056322\n",
       "2018-01-08  0.417135  0.242589  0.966274  0.663127  0.051218  0.123444\n",
       "2018-01-15  0.665546  0.467567  0.213632  0.485648  0.715412  0.683869\n",
       "2018-01-14  0.958328  0.586415  0.242599  0.488951  0.479140  0.577301\n",
       "2018-01-09  0.866251  0.950881  0.147511  0.051015  0.849311  0.884383\n",
       "2018-01-10  0.649851  0.954236  0.315532  0.445021  0.291453  0.538549"
      ]
     },
     "execution_count": 32,
     "metadata": {},
     "output_type": "execute_result"
    }
   ],
   "source": [
    "new_frame.sort_values(by='B', ascending= True) # the by parameter states that I want\n",
    "# to sort the data by the column 'b' in ascending order"
   ]
  },
  {
   "cell_type": "code",
   "execution_count": 33,
   "metadata": {},
   "outputs": [
    {
     "data": {
      "text/html": [
       "<div>\n",
       "<style scoped>\n",
       "    .dataframe tbody tr th:only-of-type {\n",
       "        vertical-align: middle;\n",
       "    }\n",
       "\n",
       "    .dataframe tbody tr th {\n",
       "        vertical-align: top;\n",
       "    }\n",
       "\n",
       "    .dataframe thead th {\n",
       "        text-align: right;\n",
       "    }\n",
       "</style>\n",
       "<table border=\"1\" class=\"dataframe\">\n",
       "  <thead>\n",
       "    <tr style=\"text-align: right;\">\n",
       "      <th></th>\n",
       "      <th>A</th>\n",
       "      <th>B</th>\n",
       "      <th>C</th>\n",
       "      <th>D</th>\n",
       "      <th>E</th>\n",
       "      <th>F</th>\n",
       "    </tr>\n",
       "  </thead>\n",
       "  <tbody>\n",
       "    <tr>\n",
       "      <th>2018-01-09</th>\n",
       "      <td>0.866251</td>\n",
       "      <td>0.950881</td>\n",
       "      <td>0.147511</td>\n",
       "      <td>0.051015</td>\n",
       "      <td>0.849311</td>\n",
       "      <td>0.884383</td>\n",
       "    </tr>\n",
       "    <tr>\n",
       "      <th>2018-01-10</th>\n",
       "      <td>0.649851</td>\n",
       "      <td>0.954236</td>\n",
       "      <td>0.315532</td>\n",
       "      <td>0.445021</td>\n",
       "      <td>0.291453</td>\n",
       "      <td>0.538549</td>\n",
       "    </tr>\n",
       "    <tr>\n",
       "      <th>2018-01-11</th>\n",
       "      <td>0.950404</td>\n",
       "      <td>0.070326</td>\n",
       "      <td>0.549370</td>\n",
       "      <td>0.514818</td>\n",
       "      <td>0.504880</td>\n",
       "      <td>0.056322</td>\n",
       "    </tr>\n",
       "  </tbody>\n",
       "</table>\n",
       "</div>"
      ],
      "text/plain": [
       "                   A         B         C         D         E         F\n",
       "2018-01-09  0.866251  0.950881  0.147511  0.051015  0.849311  0.884383\n",
       "2018-01-10  0.649851  0.954236  0.315532  0.445021  0.291453  0.538549\n",
       "2018-01-11  0.950404  0.070326  0.549370  0.514818  0.504880  0.056322"
      ]
     },
     "execution_count": 33,
     "metadata": {},
     "output_type": "execute_result"
    }
   ],
   "source": [
    "new_frame[1:4] # information is from the first index up to, but not including the last index"
   ]
  },
  {
   "cell_type": "code",
   "execution_count": 35,
   "metadata": {},
   "outputs": [
    {
     "data": {
      "text/html": [
       "<div>\n",
       "<style scoped>\n",
       "    .dataframe tbody tr th:only-of-type {\n",
       "        vertical-align: middle;\n",
       "    }\n",
       "\n",
       "    .dataframe tbody tr th {\n",
       "        vertical-align: top;\n",
       "    }\n",
       "\n",
       "    .dataframe thead th {\n",
       "        text-align: right;\n",
       "    }\n",
       "</style>\n",
       "<table border=\"1\" class=\"dataframe\">\n",
       "  <thead>\n",
       "    <tr style=\"text-align: right;\">\n",
       "      <th></th>\n",
       "      <th>A</th>\n",
       "      <th>B</th>\n",
       "    </tr>\n",
       "  </thead>\n",
       "  <tbody>\n",
       "    <tr>\n",
       "      <th>2018-01-08</th>\n",
       "      <td>0.417135</td>\n",
       "      <td>0.242589</td>\n",
       "    </tr>\n",
       "    <tr>\n",
       "      <th>2018-01-09</th>\n",
       "      <td>0.866251</td>\n",
       "      <td>0.950881</td>\n",
       "    </tr>\n",
       "    <tr>\n",
       "      <th>2018-01-10</th>\n",
       "      <td>0.649851</td>\n",
       "      <td>0.954236</td>\n",
       "    </tr>\n",
       "    <tr>\n",
       "      <th>2018-01-11</th>\n",
       "      <td>0.950404</td>\n",
       "      <td>0.070326</td>\n",
       "    </tr>\n",
       "    <tr>\n",
       "      <th>2018-01-12</th>\n",
       "      <td>0.927605</td>\n",
       "      <td>0.055884</td>\n",
       "    </tr>\n",
       "    <tr>\n",
       "      <th>2018-01-13</th>\n",
       "      <td>0.815081</td>\n",
       "      <td>0.006814</td>\n",
       "    </tr>\n",
       "    <tr>\n",
       "      <th>2018-01-14</th>\n",
       "      <td>0.958328</td>\n",
       "      <td>0.586415</td>\n",
       "    </tr>\n",
       "    <tr>\n",
       "      <th>2018-01-15</th>\n",
       "      <td>0.665546</td>\n",
       "      <td>0.467567</td>\n",
       "    </tr>\n",
       "  </tbody>\n",
       "</table>\n",
       "</div>"
      ],
      "text/plain": [
       "                   A         B\n",
       "2018-01-08  0.417135  0.242589\n",
       "2018-01-09  0.866251  0.950881\n",
       "2018-01-10  0.649851  0.954236\n",
       "2018-01-11  0.950404  0.070326\n",
       "2018-01-12  0.927605  0.055884\n",
       "2018-01-13  0.815081  0.006814\n",
       "2018-01-14  0.958328  0.586415\n",
       "2018-01-15  0.665546  0.467567"
      ]
     },
     "execution_count": 35,
     "metadata": {},
     "output_type": "execute_result"
    }
   ],
   "source": [
    "# say I want all rows but some columns use the .loc function (this is for index based location selection)\n",
    "new_frame.loc[:,['A','B']] # : means all"
   ]
  },
  {
   "cell_type": "code",
   "execution_count": 38,
   "metadata": {},
   "outputs": [
    {
     "data": {
      "text/html": [
       "<div>\n",
       "<style scoped>\n",
       "    .dataframe tbody tr th:only-of-type {\n",
       "        vertical-align: middle;\n",
       "    }\n",
       "\n",
       "    .dataframe tbody tr th {\n",
       "        vertical-align: top;\n",
       "    }\n",
       "\n",
       "    .dataframe thead th {\n",
       "        text-align: right;\n",
       "    }\n",
       "</style>\n",
       "<table border=\"1\" class=\"dataframe\">\n",
       "  <thead>\n",
       "    <tr style=\"text-align: right;\">\n",
       "      <th></th>\n",
       "      <th>C</th>\n",
       "      <th>D</th>\n",
       "    </tr>\n",
       "  </thead>\n",
       "  <tbody>\n",
       "    <tr>\n",
       "      <th>2018-01-09</th>\n",
       "      <td>0.147511</td>\n",
       "      <td>0.051015</td>\n",
       "    </tr>\n",
       "    <tr>\n",
       "      <th>2018-01-10</th>\n",
       "      <td>0.315532</td>\n",
       "      <td>0.445021</td>\n",
       "    </tr>\n",
       "  </tbody>\n",
       "</table>\n",
       "</div>"
      ],
      "text/plain": [
       "                   C         D\n",
       "2018-01-09  0.147511  0.051015\n",
       "2018-01-10  0.315532  0.445021"
      ]
     },
     "execution_count": 38,
     "metadata": {},
     "output_type": "execute_result"
    }
   ],
   "source": [
    "new_frame.iloc[1:3,2:4] # iloc function is used for index based location selection"
   ]
  },
  {
   "cell_type": "markdown",
   "metadata": {},
   "source": [
    "## In the following Let's learn to append new data onto a dataframe"
   ]
  },
  {
   "cell_type": "code",
   "execution_count": 3,
   "metadata": {},
   "outputs": [
    {
     "data": {
      "text/html": [
       "<div>\n",
       "<style scoped>\n",
       "    .dataframe tbody tr th:only-of-type {\n",
       "        vertical-align: middle;\n",
       "    }\n",
       "\n",
       "    .dataframe tbody tr th {\n",
       "        vertical-align: top;\n",
       "    }\n",
       "\n",
       "    .dataframe thead th {\n",
       "        text-align: right;\n",
       "    }\n",
       "</style>\n",
       "<table border=\"1\" class=\"dataframe\">\n",
       "  <thead>\n",
       "    <tr style=\"text-align: right;\">\n",
       "      <th></th>\n",
       "      <th>A</th>\n",
       "      <th>B</th>\n",
       "      <th>C</th>\n",
       "      <th>D</th>\n",
       "    </tr>\n",
       "  </thead>\n",
       "  <tbody>\n",
       "    <tr>\n",
       "      <th>2019-01-08</th>\n",
       "      <td>0</td>\n",
       "      <td>1</td>\n",
       "      <td>2</td>\n",
       "      <td>3</td>\n",
       "    </tr>\n",
       "    <tr>\n",
       "      <th>2019-01-09</th>\n",
       "      <td>4</td>\n",
       "      <td>5</td>\n",
       "      <td>6</td>\n",
       "      <td>7</td>\n",
       "    </tr>\n",
       "    <tr>\n",
       "      <th>2019-01-10</th>\n",
       "      <td>8</td>\n",
       "      <td>9</td>\n",
       "      <td>10</td>\n",
       "      <td>11</td>\n",
       "    </tr>\n",
       "    <tr>\n",
       "      <th>2019-01-11</th>\n",
       "      <td>12</td>\n",
       "      <td>13</td>\n",
       "      <td>14</td>\n",
       "      <td>15</td>\n",
       "    </tr>\n",
       "    <tr>\n",
       "      <th>2019-01-12</th>\n",
       "      <td>16</td>\n",
       "      <td>17</td>\n",
       "      <td>18</td>\n",
       "      <td>19</td>\n",
       "    </tr>\n",
       "    <tr>\n",
       "      <th>2019-01-13</th>\n",
       "      <td>20</td>\n",
       "      <td>21</td>\n",
       "      <td>22</td>\n",
       "      <td>23</td>\n",
       "    </tr>\n",
       "  </tbody>\n",
       "</table>\n",
       "</div>"
      ],
      "text/plain": [
       "             A   B   C   D\n",
       "2019-01-08   0   1   2   3\n",
       "2019-01-09   4   5   6   7\n",
       "2019-01-10   8   9  10  11\n",
       "2019-01-11  12  13  14  15\n",
       "2019-01-12  16  17  18  19\n",
       "2019-01-13  20  21  22  23"
      ]
     },
     "execution_count": 3,
     "metadata": {},
     "output_type": "execute_result"
    }
   ],
   "source": [
    "# first create a new dataframe:\n",
    "startingdate='20190108'\n",
    "sample_data= np.array(np.arange(24)).reshape(6,4)\n",
    "dates_index=pd.date_range(startingdate,periods=6)\n",
    "sample_df= pd.DataFrame(sample_data,index=dates_index,columns=list('ABCD'))\n",
    "sample_df"
   ]
  },
  {
   "cell_type": "code",
   "execution_count": 5,
   "metadata": {},
   "outputs": [
    {
     "data": {
      "text/html": [
       "<div>\n",
       "<style scoped>\n",
       "    .dataframe tbody tr th:only-of-type {\n",
       "        vertical-align: middle;\n",
       "    }\n",
       "\n",
       "    .dataframe tbody tr th {\n",
       "        vertical-align: top;\n",
       "    }\n",
       "\n",
       "    .dataframe thead th {\n",
       "        text-align: right;\n",
       "    }\n",
       "</style>\n",
       "<table border=\"1\" class=\"dataframe\">\n",
       "  <thead>\n",
       "    <tr style=\"text-align: right;\">\n",
       "      <th></th>\n",
       "      <th>A</th>\n",
       "      <th>B</th>\n",
       "      <th>C</th>\n",
       "      <th>D</th>\n",
       "      <th>fruits</th>\n",
       "    </tr>\n",
       "  </thead>\n",
       "  <tbody>\n",
       "    <tr>\n",
       "      <th>2019-01-08</th>\n",
       "      <td>0</td>\n",
       "      <td>1</td>\n",
       "      <td>2</td>\n",
       "      <td>3</td>\n",
       "      <td>apple</td>\n",
       "    </tr>\n",
       "    <tr>\n",
       "      <th>2019-01-09</th>\n",
       "      <td>4</td>\n",
       "      <td>5</td>\n",
       "      <td>6</td>\n",
       "      <td>7</td>\n",
       "      <td>banana</td>\n",
       "    </tr>\n",
       "    <tr>\n",
       "      <th>2019-01-10</th>\n",
       "      <td>8</td>\n",
       "      <td>9</td>\n",
       "      <td>10</td>\n",
       "      <td>11</td>\n",
       "      <td>orange</td>\n",
       "    </tr>\n",
       "    <tr>\n",
       "      <th>2019-01-11</th>\n",
       "      <td>12</td>\n",
       "      <td>13</td>\n",
       "      <td>14</td>\n",
       "      <td>15</td>\n",
       "      <td>strawberry</td>\n",
       "    </tr>\n",
       "    <tr>\n",
       "      <th>2019-01-12</th>\n",
       "      <td>16</td>\n",
       "      <td>17</td>\n",
       "      <td>18</td>\n",
       "      <td>19</td>\n",
       "      <td>blueberry</td>\n",
       "    </tr>\n",
       "    <tr>\n",
       "      <th>2019-01-13</th>\n",
       "      <td>20</td>\n",
       "      <td>21</td>\n",
       "      <td>22</td>\n",
       "      <td>23</td>\n",
       "      <td>pineapple</td>\n",
       "    </tr>\n",
       "  </tbody>\n",
       "</table>\n",
       "</div>"
      ],
      "text/plain": [
       "             A   B   C   D      fruits\n",
       "2019-01-08   0   1   2   3       apple\n",
       "2019-01-09   4   5   6   7      banana\n",
       "2019-01-10   8   9  10  11      orange\n",
       "2019-01-11  12  13  14  15  strawberry\n",
       "2019-01-12  16  17  18  19   blueberry\n",
       "2019-01-13  20  21  22  23   pineapple"
      ]
     },
     "execution_count": 5,
     "metadata": {},
     "output_type": "execute_result"
    }
   ],
   "source": [
    "# creating a new data:\n",
    "sample_df_2= sample_df.copy() # copy the original\n",
    "sample_df_2['fruits']=['apple','banana','orange','strawberry','blueberry','pineapple']\n",
    "sample_df_2\n"
   ]
  },
  {
   "cell_type": "code",
   "execution_count": 8,
   "metadata": {},
   "outputs": [
    {
     "data": {
      "text/plain": [
       "2019-01-08    1\n",
       "2019-01-09    2\n",
       "2019-01-10    3\n",
       "2019-01-11    4\n",
       "2019-01-12    5\n",
       "2019-01-13    6\n",
       "Freq: D, dtype: int64"
      ]
     },
     "execution_count": 8,
     "metadata": {},
     "output_type": "execute_result"
    }
   ],
   "source": [
    "# new series data: \n",
    "pd.Series([1,2,3,4,5,6], index=pd.date_range(startingdate,periods=6))"
   ]
  },
  {
   "cell_type": "code",
   "execution_count": 9,
   "metadata": {},
   "outputs": [
    {
     "data": {
      "text/html": [
       "<div>\n",
       "<style scoped>\n",
       "    .dataframe tbody tr th:only-of-type {\n",
       "        vertical-align: middle;\n",
       "    }\n",
       "\n",
       "    .dataframe tbody tr th {\n",
       "        vertical-align: top;\n",
       "    }\n",
       "\n",
       "    .dataframe thead th {\n",
       "        text-align: right;\n",
       "    }\n",
       "</style>\n",
       "<table border=\"1\" class=\"dataframe\">\n",
       "  <thead>\n",
       "    <tr style=\"text-align: right;\">\n",
       "      <th></th>\n",
       "      <th>A</th>\n",
       "      <th>B</th>\n",
       "      <th>C</th>\n",
       "      <th>D</th>\n",
       "      <th>fruits</th>\n",
       "      <th>Extra data</th>\n",
       "    </tr>\n",
       "  </thead>\n",
       "  <tbody>\n",
       "    <tr>\n",
       "      <th>2019-01-08</th>\n",
       "      <td>0</td>\n",
       "      <td>1</td>\n",
       "      <td>2</td>\n",
       "      <td>3</td>\n",
       "      <td>apple</td>\n",
       "      <td>1</td>\n",
       "    </tr>\n",
       "    <tr>\n",
       "      <th>2019-01-09</th>\n",
       "      <td>4</td>\n",
       "      <td>5</td>\n",
       "      <td>6</td>\n",
       "      <td>7</td>\n",
       "      <td>banana</td>\n",
       "      <td>2</td>\n",
       "    </tr>\n",
       "    <tr>\n",
       "      <th>2019-01-10</th>\n",
       "      <td>8</td>\n",
       "      <td>9</td>\n",
       "      <td>10</td>\n",
       "      <td>11</td>\n",
       "      <td>orange</td>\n",
       "      <td>3</td>\n",
       "    </tr>\n",
       "    <tr>\n",
       "      <th>2019-01-11</th>\n",
       "      <td>12</td>\n",
       "      <td>13</td>\n",
       "      <td>14</td>\n",
       "      <td>15</td>\n",
       "      <td>strawberry</td>\n",
       "      <td>4</td>\n",
       "    </tr>\n",
       "    <tr>\n",
       "      <th>2019-01-12</th>\n",
       "      <td>16</td>\n",
       "      <td>17</td>\n",
       "      <td>18</td>\n",
       "      <td>19</td>\n",
       "      <td>blueberry</td>\n",
       "      <td>5</td>\n",
       "    </tr>\n",
       "    <tr>\n",
       "      <th>2019-01-13</th>\n",
       "      <td>20</td>\n",
       "      <td>21</td>\n",
       "      <td>22</td>\n",
       "      <td>23</td>\n",
       "      <td>pineapple</td>\n",
       "      <td>6</td>\n",
       "    </tr>\n",
       "  </tbody>\n",
       "</table>\n",
       "</div>"
      ],
      "text/plain": [
       "             A   B   C   D      fruits  Extra data\n",
       "2019-01-08   0   1   2   3       apple           1\n",
       "2019-01-09   4   5   6   7      banana           2\n",
       "2019-01-10   8   9  10  11      orange           3\n",
       "2019-01-11  12  13  14  15  strawberry           4\n",
       "2019-01-12  16  17  18  19   blueberry           5\n",
       "2019-01-13  20  21  22  23   pineapple           6"
      ]
     },
     "execution_count": 9,
     "metadata": {},
     "output_type": "execute_result"
    }
   ],
   "source": [
    "# to append do as done in In[5] .....\n",
    "sample_df_2['Extra data']= pd.Series([1,2,3,4,5,6], index=pd.date_range(startingdate,periods=6))\n",
    "sample_df_2"
   ]
  },
  {
   "cell_type": "code",
   "execution_count": 16,
   "metadata": {},
   "outputs": [],
   "source": [
    "new_ans=sample_df_2.loc[:,['Extra data']]*3 +1\n"
   ]
  },
  {
   "cell_type": "code",
   "execution_count": 23,
   "metadata": {},
   "outputs": [
    {
     "data": {
      "text/html": [
       "<div>\n",
       "<style scoped>\n",
       "    .dataframe tbody tr th:only-of-type {\n",
       "        vertical-align: middle;\n",
       "    }\n",
       "\n",
       "    .dataframe tbody tr th {\n",
       "        vertical-align: top;\n",
       "    }\n",
       "\n",
       "    .dataframe thead th {\n",
       "        text-align: right;\n",
       "    }\n",
       "</style>\n",
       "<table border=\"1\" class=\"dataframe\">\n",
       "  <thead>\n",
       "    <tr style=\"text-align: right;\">\n",
       "      <th></th>\n",
       "      <th>A</th>\n",
       "      <th>B</th>\n",
       "      <th>C</th>\n",
       "      <th>D</th>\n",
       "      <th>fruits</th>\n",
       "      <th>Extra data</th>\n",
       "    </tr>\n",
       "  </thead>\n",
       "  <tbody>\n",
       "    <tr>\n",
       "      <th>2019-01-08</th>\n",
       "      <td>0</td>\n",
       "      <td>1</td>\n",
       "      <td>2</td>\n",
       "      <td>3</td>\n",
       "      <td>apple</td>\n",
       "      <td>4</td>\n",
       "    </tr>\n",
       "    <tr>\n",
       "      <th>2019-01-09</th>\n",
       "      <td>4</td>\n",
       "      <td>5</td>\n",
       "      <td>6</td>\n",
       "      <td>7</td>\n",
       "      <td>banana</td>\n",
       "      <td>7</td>\n",
       "    </tr>\n",
       "    <tr>\n",
       "      <th>2019-01-10</th>\n",
       "      <td>8</td>\n",
       "      <td>9</td>\n",
       "      <td>10</td>\n",
       "      <td>11</td>\n",
       "      <td>orange</td>\n",
       "      <td>10</td>\n",
       "    </tr>\n",
       "    <tr>\n",
       "      <th>2019-01-11</th>\n",
       "      <td>12</td>\n",
       "      <td>13</td>\n",
       "      <td>14</td>\n",
       "      <td>15</td>\n",
       "      <td>pear</td>\n",
       "      <td>13</td>\n",
       "    </tr>\n",
       "    <tr>\n",
       "      <th>2019-01-12</th>\n",
       "      <td>16</td>\n",
       "      <td>17</td>\n",
       "      <td>18</td>\n",
       "      <td>19</td>\n",
       "      <td>blueberry</td>\n",
       "      <td>16</td>\n",
       "    </tr>\n",
       "    <tr>\n",
       "      <th>2019-01-13</th>\n",
       "      <td>20</td>\n",
       "      <td>21</td>\n",
       "      <td>22</td>\n",
       "      <td>23</td>\n",
       "      <td>pineapple</td>\n",
       "      <td>19</td>\n",
       "    </tr>\n",
       "  </tbody>\n",
       "</table>\n",
       "</div>"
      ],
      "text/plain": [
       "             A   B   C   D     fruits  Extra data\n",
       "2019-01-08   0   1   2   3      apple           4\n",
       "2019-01-09   4   5   6   7     banana           7\n",
       "2019-01-10   8   9  10  11     orange          10\n",
       "2019-01-11  12  13  14  15       pear          13\n",
       "2019-01-12  16  17  18  19  blueberry          16\n",
       "2019-01-13  20  21  22  23  pineapple          19"
      ]
     },
     "execution_count": 23,
     "metadata": {},
     "output_type": "execute_result"
    }
   ],
   "source": [
    "sample_df_2.loc[:,['Extra data']]=new_ans\n",
    "\n",
    "# also change the data\n",
    "sample_df_2.iloc[3,4]='pear' # iat is for date time index selection via integer/iloc would work too\n",
    "sample_df_2"
   ]
  },
  {
   "cell_type": "code",
   "execution_count": 31,
   "metadata": {},
   "outputs": [
    {
     "name": "stdout",
     "output_type": "stream",
     "text": [
      "these are the no of columns: 6\n",
      "these are the no of rows: 6\n"
     ]
    }
   ],
   "source": [
    "len(sample_df_2) # the number of rows\n",
    "sample_df_2.shape # rows,cols\n",
    "sample_df_2.shape[0]#will give you the rows\n",
    "print('these are the no of columns: {}'.format(sample_df_2.shape[1]))\n",
    "print('these are the no of rows: {}'.format(sample_df_2.shape[0]))\n"
   ]
  },
  {
   "cell_type": "code",
   "execution_count": 32,
   "metadata": {},
   "outputs": [
    {
     "name": "stdout",
     "output_type": "stream",
     "text": [
      "<class 'pandas.core.frame.DataFrame'>\n",
      "DatetimeIndex: 6 entries, 2019-01-08 to 2019-01-13\n",
      "Freq: D\n",
      "Data columns (total 6 columns):\n",
      "A             6 non-null int32\n",
      "B             6 non-null int32\n",
      "C             6 non-null int32\n",
      "D             6 non-null int32\n",
      "fruits        6 non-null object\n",
      "Extra data    6 non-null int64\n",
      "dtypes: int32(4), int64(1), object(1)\n",
      "memory usage: 400.0+ bytes\n"
     ]
    }
   ],
   "source": [
    "# to get info:\n",
    "sample_df_2.info()"
   ]
  },
  {
   "cell_type": "code",
   "execution_count": null,
   "metadata": {},
   "outputs": [],
   "source": [
    "# to read csv files:\n",
    "pd.read_csv(skiprows=4)# if you don't want to read the first 4 rows in your frame... use skiprows function\n",
    "pd.read_excel()\n",
    "pd.read_json()\n"
   ]
  }
 ],
 "metadata": {
  "kernelspec": {
   "display_name": "Python 3",
   "language": "python",
   "name": "python3"
  },
  "language_info": {
   "codemirror_mode": {
    "name": "ipython",
    "version": 3
   },
   "file_extension": ".py",
   "mimetype": "text/x-python",
   "name": "python",
   "nbconvert_exporter": "python",
   "pygments_lexer": "ipython3",
   "version": "3.5.4"
  }
 },
 "nbformat": 4,
 "nbformat_minor": 2
}
